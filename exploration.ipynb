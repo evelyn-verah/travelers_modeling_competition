{
 "cells": [
  {
   "cell_type": "code",
   "execution_count": 2,
   "metadata": {},
   "outputs": [],
   "source": [
    "import pandas as pd\n",
    "import numpy as np"
   ]
  },
  {
   "cell_type": "code",
   "execution_count": 6,
   "metadata": {},
   "outputs": [
    {
     "name": "stdout",
     "output_type": "stream",
     "text": [
      "<class 'pandas.core.frame.DataFrame'>\n",
      "RangeIndex: 80000 entries, 0 to 79999\n",
      "Data columns (total 21 columns):\n",
      " #   Column                   Non-Null Count  Dtype  \n",
      "---  ------                   --------------  -----  \n",
      " 0   id                       80000 non-null  int64  \n",
      " 1   12m_call_history         80000 non-null  int64  \n",
      " 2   acq_method               80000 non-null  object \n",
      " 3   ann_prm_amt              80000 non-null  float64\n",
      " 4   bi_limit_group           80000 non-null  object \n",
      " 5   channel                  80000 non-null  object \n",
      " 6   digital_contact_ind      80000 non-null  int64  \n",
      " 7   geo_group                80000 non-null  object \n",
      " 8   has_prior_carrier        80000 non-null  int64  \n",
      " 9   home_lot_sq_footage      80000 non-null  int64  \n",
      " 10  household_group          80000 non-null  object \n",
      " 11  household_policy_counts  80000 non-null  int64  \n",
      " 12  newest_veh_age           80000 non-null  int64  \n",
      " 13  pay_type_code            80000 non-null  object \n",
      " 14  pol_edeliv_ind           80000 non-null  int64  \n",
      " 15  prdct_sbtyp_grp          80000 non-null  object \n",
      " 16  product_sbtyp            80000 non-null  object \n",
      " 17  telematics_ind           80000 non-null  int64  \n",
      " 18  tenure_at_snapshot       80000 non-null  int64  \n",
      " 19  trm_len_mo               80000 non-null  int64  \n",
      " 20  call_counts              80000 non-null  int64  \n",
      "dtypes: float64(1), int64(12), object(8)\n",
      "memory usage: 12.8+ MB\n"
     ]
    }
   ],
   "source": [
    "data = pd.read_csv(\"/Users/paulchimzy/Documents/Emory/Competition/Travellers/data/raw/train_data.csv\")\n",
    "data.info()"
   ]
  },
  {
   "cell_type": "code",
   "execution_count": 7,
   "metadata": {},
   "outputs": [
    {
     "data": {
      "text/plain": [
       "80000"
      ]
     },
     "execution_count": 7,
     "metadata": {},
     "output_type": "execute_result"
    }
   ],
   "source": [
    "len(data)"
   ]
  },
  {
   "cell_type": "code",
   "execution_count": 19,
   "metadata": {},
   "outputs": [
    {
     "data": {
      "text/plain": [
       "bi_limit_group\n",
       "NonAuto       58015\n",
       "CSLGrp1        3192\n",
       "SPGrp3         3155\n",
       "CSLGrp3        3146\n",
       "SPGrp2         3145\n",
       "SPGrp4         3138\n",
       "SPGrp1Miss     3115\n",
       "CSLGrp2        3094\n",
       "Name: count, dtype: int64"
      ]
     },
     "execution_count": 19,
     "metadata": {},
     "output_type": "execute_result"
    }
   ],
   "source": [
    "data[\"bi_limit_group\"].value_counts()"
   ]
  },
  {
   "cell_type": "code",
   "execution_count": 17,
   "metadata": {},
   "outputs": [
    {
     "data": {
      "text/plain": [
       "newest_veh_age\n",
       "-20    58015\n",
       " 8      3989\n",
       " 41      225\n",
       " 75      222\n",
       " 56      213\n",
       "       ...  \n",
       " 19      157\n",
       " 86      157\n",
       " 58      154\n",
       " 28      150\n",
       " 92      140\n",
       "Name: count, Length: 99, dtype: int64"
      ]
     },
     "execution_count": 17,
     "metadata": {},
     "output_type": "execute_result"
    }
   ],
   "source": [
    "data[\"newest_veh_age\"].value_counts()"
   ]
  },
  {
   "cell_type": "code",
   "execution_count": 20,
   "metadata": {},
   "outputs": [
    {
     "data": {
      "text/plain": [
       "telematics_ind\n",
       "-2    58015\n",
       " 1     7404\n",
       " 0     7317\n",
       "-1     7264\n",
       "Name: count, dtype: int64"
      ]
     },
     "execution_count": 20,
     "metadata": {},
     "output_type": "execute_result"
    }
   ],
   "source": [
    "data[\"telematics_ind\"].value_counts()"
   ]
  },
  {
   "cell_type": "code",
   "execution_count": 22,
   "metadata": {},
   "outputs": [
    {
     "data": {
      "text/plain": [
       "trm_len_mo\n",
       "12    57348\n",
       "6     22652\n",
       "Name: count, dtype: int64"
      ]
     },
     "execution_count": 22,
     "metadata": {},
     "output_type": "execute_result"
    }
   ],
   "source": [
    "data[\"trm_len_mo\"].value_counts()"
   ]
  },
  {
   "cell_type": "code",
   "execution_count": 23,
   "metadata": {},
   "outputs": [
    {
     "data": {
      "text/plain": [
       "household_group\n",
       "1dwelling           49073\n",
       "2autodwelling       20155\n",
       "3other               8942\n",
       "3autodwellingumb     1830\n",
       "Name: count, dtype: int64"
      ]
     },
     "execution_count": 23,
     "metadata": {},
     "output_type": "execute_result"
    }
   ],
   "source": [
    "data[\"household_group\"].value_counts()"
   ]
  },
  {
   "cell_type": "code",
   "execution_count": 24,
   "metadata": {},
   "outputs": [
    {
     "data": {
      "text/plain": [
       "channel\n",
       "Retail    52888\n",
       "Others    27112\n",
       "Name: count, dtype: int64"
      ]
     },
     "execution_count": 24,
     "metadata": {},
     "output_type": "execute_result"
    }
   ],
   "source": [
    "data[\"channel\"].value_counts()"
   ]
  },
  {
   "cell_type": "code",
   "execution_count": null,
   "metadata": {},
   "outputs": [],
   "source": []
  }
 ],
 "metadata": {
  "kernelspec": {
   "display_name": "ml_env",
   "language": "python",
   "name": "python3"
  },
  "language_info": {
   "codemirror_mode": {
    "name": "ipython",
    "version": 3
   },
   "file_extension": ".py",
   "mimetype": "text/x-python",
   "name": "python",
   "nbconvert_exporter": "python",
   "pygments_lexer": "ipython3",
   "version": "3.12.0"
  }
 },
 "nbformat": 4,
 "nbformat_minor": 2
}
